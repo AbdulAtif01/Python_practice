{
 "cells": [
  {
   "cell_type": "code",
   "execution_count": null,
   "id": "e2383ded",
   "metadata": {},
   "outputs": [],
   "source": [
    "pip install pyfiglet\n"
   ]
  },
  {
   "cell_type": "code",
   "execution_count": 1,
   "id": "d53d1f13",
   "metadata": {},
   "outputs": [
    {
     "name": "stdout",
     "output_type": "stream",
     "text": [
      "                        *                         \n",
      "                       ***                        \n",
      "                      *****                       \n",
      "                     *******                      \n",
      "                    *********                     \n",
      "                   ***********                    \n",
      "                  *************                   \n",
      "                 ***************                  \n",
      "                *****************                 \n",
      "               *******************                \n",
      "              *********************               \n",
      "             ***********************              \n",
      "            *************************             \n",
      "           ***************************            \n",
      "          *****************************           \n",
      "         *******************************          \n",
      "        *********************************         \n",
      "       ***********************************        \n",
      "      *************************************       \n",
      "     ***************************************      \n",
      "                       |  |                       \n",
      "                       |  |                       \n",
      "                       |  |                       \n",
      "\n",
      "'##::::'##:'########:'########::'########::'##:::'##:\n",
      " ###::'###: ##.....:: ##.... ##: ##.... ##:. ##:'##::\n",
      " ####'####: ##::::::: ##:::: ##: ##:::: ##::. ####:::\n",
      " ## ### ##: ######::: ########:: ########::::. ##::::\n",
      " ##. #: ##: ##...:::: ##.. ##::: ##.. ##:::::: ##::::\n",
      " ##:.:: ##: ##::::::: ##::. ##:: ##::. ##::::: ##::::\n",
      " ##:::: ##: ########: ##:::. ##: ##:::. ##:::: ##::::\n",
      "..:::::..::........::..:::::..::..:::::..:::::..:::::\n",
      ":'######::'##::::'##:'########::'####::'######::'########:'##::::'##:\n",
      "'##... ##: ##:::: ##: ##.... ##:. ##::'##... ##:... ##..:: ###::'###:\n",
      " ##:::..:: ##:::: ##: ##:::: ##:: ##:: ##:::..::::: ##:::: ####'####:\n",
      " ##::::::: #########: ########::: ##::. ######::::: ##:::: ## ### ##:\n",
      " ##::::::: ##.... ##: ##.. ##:::: ##:::..... ##:::: ##:::: ##. #: ##:\n",
      " ##::: ##: ##:::: ##: ##::. ##::: ##::'##::: ##:::: ##:::: ##:.:: ##:\n",
      ". ######:: ##:::: ##: ##:::. ##:'####:. ######::::: ##:::: ##:::: ##:\n",
      ":......:::..:::::..::..:::::..::....:::......::::::..:::::..:::::..::\n",
      ":::'###:::::'######::\n",
      "::'## ##:::'##... ##:\n",
      ":'##:. ##:: ##:::..::\n",
      "'##:::. ##:. ######::\n",
      " #########::..... ##:\n",
      " ##.... ##:'##::: ##:\n",
      " ##:::: ##:. ######::\n",
      "..:::::..:::......:::\n",
      "\n"
     ]
    }
   ],
   "source": [
    "count = 1\n",
    "width = 50\n",
    "for i in range (20):\n",
    "    print((\"*\"*count).center(width))\n",
    "    count += 2\n",
    "print(\"|  |\".center(width))\n",
    "print(\"|  |\".center(width))\n",
    "print(\"|  |\".center(width))\n",
    "\n",
    "print()\n",
    "\n",
    "import pyfiglet as pf\n",
    "text = pf.figlet_format(\"MERRY CHRISTMAS\", font= 'banner3-d')\n",
    "print (text)"
   ]
  },
  {
   "cell_type": "code",
   "execution_count": 2,
   "id": "d62d2a5e",
   "metadata": {},
   "outputs": [
    {
     "name": "stdout",
     "output_type": "stream",
     "text": [
      "Please enter the number : 5\n",
      "* \n",
      "* * \n",
      "* * * \n",
      "* * * * \n"
     ]
    }
   ],
   "source": [
    "a = int(input(\"Please enter the number : \"))\n",
    "for i in range (1,a):\n",
    "    print('* '*i)\n",
    "       "
   ]
  },
  {
   "cell_type": "code",
   "execution_count": 3,
   "id": "d91f6fab",
   "metadata": {},
   "outputs": [
    {
     "name": "stdout",
     "output_type": "stream",
     "text": [
      "Please enter the number : 5\n",
      "* * * * * \n",
      "* * * * \n",
      "* * * \n",
      "* * \n",
      "* \n"
     ]
    }
   ],
   "source": [
    "a = int(input(\"Please enter the number : \"))\n",
    "for i in range(a):\n",
    "    print('* '*(a-i))\n",
    "    "
   ]
  },
  {
   "cell_type": "code",
   "execution_count": 4,
   "id": "e915d920",
   "metadata": {},
   "outputs": [
    {
     "name": "stdout",
     "output_type": "stream",
     "text": [
      "Please enter the number : 5\n",
      "* * * * * \n",
      "* * * * * \n",
      "* * * * * \n",
      "* * * * * \n",
      "* * * * * \n"
     ]
    }
   ],
   "source": [
    "a = int(input(\"Please enter the number : \"))\n",
    "for i in range(1,a+1):\n",
    "    print ('* '*(a-i)+'* '*i)"
   ]
  },
  {
   "cell_type": "code",
   "execution_count": 5,
   "id": "82c2f5fd",
   "metadata": {},
   "outputs": [
    {
     "name": "stdout",
     "output_type": "stream",
     "text": [
      "* * * * \n",
      "* * * * \n",
      "* * * * \n",
      "* * * * \n"
     ]
    }
   ],
   "source": [
    "for j in range (4):\n",
    "    for i in range(4):\n",
    "        print ('* ',end = '')\n",
    "    print()"
   ]
  },
  {
   "cell_type": "code",
   "execution_count": 6,
   "id": "03b572f6",
   "metadata": {},
   "outputs": [
    {
     "name": "stdout",
     "output_type": "stream",
     "text": [
      "* \n",
      "* * \n",
      "* * * \n",
      "* * * * \n"
     ]
    }
   ],
   "source": [
    "for j in range (4):\n",
    "    for i in range(j+1):\n",
    "        print ('* ',end = '')\n",
    "    print()"
   ]
  },
  {
   "cell_type": "code",
   "execution_count": 7,
   "id": "324d6343",
   "metadata": {},
   "outputs": [
    {
     "name": "stdout",
     "output_type": "stream",
     "text": [
      "* * * * \n",
      "* * * \n",
      "* * \n",
      "* \n"
     ]
    }
   ],
   "source": [
    "for j in range (4):\n",
    "    for i in range(j,4):\n",
    "        print ('* ',end = '')\n",
    "    print()"
   ]
  },
  {
   "cell_type": "code",
   "execution_count": 8,
   "id": "09c46a2c",
   "metadata": {},
   "outputs": [
    {
     "name": "stdout",
     "output_type": "stream",
     "text": [
      "Please enter the number : 5\n",
      " * * * * \n",
      "  * * * \n",
      "   * * \n",
      "    * \n"
     ]
    }
   ],
   "source": [
    "a = int(input(\"Please enter the number : \"))\n",
    "for i in range(a-1):\n",
    "    for j in range (i+1):\n",
    "        print(' ',end= '')\n",
    "    for k in range(a-i-1):\n",
    "        print('* ',end='')\n",
    "    print()"
   ]
  },
  {
   "cell_type": "code",
   "execution_count": 9,
   "id": "15cb5595",
   "metadata": {},
   "outputs": [
    {
     "name": "stdout",
     "output_type": "stream",
     "text": [
      "          * \n",
      "        * * \n",
      "      * * * \n",
      "    * * * * \n",
      "  * * * * * \n"
     ]
    }
   ],
   "source": [
    "n = 5\n",
    "for i in range(n):\n",
    "    for j in range(i,n):\n",
    "        print (' ',end=\" \")\n",
    "    for k in range(i+1):\n",
    "        print ('* ',end='')\n",
    "    print()"
   ]
  },
  {
   "cell_type": "code",
   "execution_count": 10,
   "id": "afb02342",
   "metadata": {},
   "outputs": [
    {
     "name": "stdout",
     "output_type": "stream",
     "text": [
      "  * * * * * \n",
      "    * * * * \n",
      "      * * * \n",
      "        * * \n",
      "          * \n"
     ]
    }
   ],
   "source": [
    "n = 5\n",
    "for i in range(n):\n",
    "    for j in range(i+1):\n",
    "        print (' ',end=\" \")\n",
    "    for k in range(i,n):\n",
    "        print ('*',end=' ')\n",
    "    print()"
   ]
  },
  {
   "cell_type": "code",
   "execution_count": 11,
   "id": "583e5d03",
   "metadata": {},
   "outputs": [
    {
     "name": "stdout",
     "output_type": "stream",
     "text": [
      "          * \n",
      "        * * * \n",
      "      * * * * * \n",
      "    * * * * * * * \n",
      "  * * * * * * * * * \n"
     ]
    }
   ],
   "source": [
    "n = 5\n",
    "for i in range(n):\n",
    "    for j in range(i,n):\n",
    "        print (' ',end=\" \")\n",
    "    for k in range(i):\n",
    "        print ('*',end=' ')\n",
    "    for l in range(i+1):\n",
    "        print ('*',end=' ')\n",
    "    print()"
   ]
  },
  {
   "cell_type": "code",
   "execution_count": 12,
   "id": "d4ecaf5d",
   "metadata": {},
   "outputs": [
    {
     "name": "stdout",
     "output_type": "stream",
     "text": [
      "* * * * * * * * * \n",
      "  * * * * * * * \n",
      "    * * * * * \n",
      "      * * * \n",
      "        * \n"
     ]
    }
   ],
   "source": [
    "n = 5\n",
    "for i in range(n):\n",
    "    for j in range(i):\n",
    "        print(' ', end=\" \")\n",
    "    for k in range(i,n-1):\n",
    "        print ('*',end=' ')\n",
    "    for l in range(i,n):\n",
    "        print('*',end=\" \")\n",
    "    print()"
   ]
  },
  {
   "cell_type": "code",
   "execution_count": 13,
   "id": "d13f3735",
   "metadata": {},
   "outputs": [
    {
     "name": "stdout",
     "output_type": "stream",
     "text": [
      "        * \n",
      "      * * * \n",
      "    * * * * * \n",
      "  * * * * * * * \n",
      "* * * * * * * * * \n",
      "* * * * * * * * * \n",
      "  * * * * * * * \n",
      "    * * * * * \n",
      "      * * * \n",
      "        * \n"
     ]
    }
   ],
   "source": [
    "n= 5\n",
    "for i in range(n):\n",
    "    for j in range(i,n-1):\n",
    "        print(' ',end=' ')\n",
    "    for k in range(i):\n",
    "        print('*',end=' ')\n",
    "    for l in range(i+1):\n",
    "        print('*',end=' ')\n",
    "    print()\n",
    "for i in range(n):\n",
    "    for j in range(i):\n",
    "        print(' ',end=' ')\n",
    "    for k in range(i,n-1):\n",
    "        print('*',end = ' ')\n",
    "    for l in range(i,n):\n",
    "        print('*',end=' ')\n",
    "    print()"
   ]
  },
  {
   "cell_type": "code",
   "execution_count": 14,
   "id": "c85a84a9",
   "metadata": {},
   "outputs": [
    {
     "name": "stdout",
     "output_type": "stream",
     "text": [
      "* \n",
      "* * \n",
      "* * * \n",
      "* * * * \n",
      "* * * * * \n"
     ]
    }
   ],
   "source": [
    "n = 5\n",
    "for i in range (n):\n",
    "    for j in range(i+1):\n",
    "        print('*', end = \" \")\n",
    "    print()"
   ]
  },
  {
   "cell_type": "code",
   "execution_count": 15,
   "id": "48217208",
   "metadata": {},
   "outputs": [
    {
     "name": "stdout",
     "output_type": "stream",
     "text": [
      "          * \n",
      "        * * \n",
      "      * * * \n",
      "    * * * * \n",
      "  * * * * * \n"
     ]
    }
   ],
   "source": [
    "n = 5\n",
    "for i in range (n):\n",
    "    for j in range(i,n):\n",
    "        print (' ',end=' ')\n",
    "    for k in range (i+1):\n",
    "        print ('*', end=\" \")\n",
    "    print()"
   ]
  },
  {
   "cell_type": "code",
   "execution_count": 16,
   "id": "a9e216df",
   "metadata": {},
   "outputs": [
    {
     "name": "stdout",
     "output_type": "stream",
     "text": [
      "*           \n",
      "* *         \n",
      "* * *       \n",
      "* * * *     \n",
      "* * * * *   \n"
     ]
    }
   ],
   "source": [
    "n = 5\n",
    "for i in range (n):\n",
    "    for j in range (i+1):\n",
    "        print ('*',end = ' ')\n",
    "    for k in range (i,n):\n",
    "        print (' ', end=\" \")\n",
    "    print()"
   ]
  },
  {
   "cell_type": "code",
   "execution_count": 17,
   "id": "b0890210",
   "metadata": {},
   "outputs": [
    {
     "name": "stdout",
     "output_type": "stream",
     "text": [
      "          * \n",
      "        * * * \n",
      "      * * * * * \n",
      "    * * * * * * * \n",
      "  * * * * * * * * * \n"
     ]
    }
   ],
   "source": [
    "n = 5\n",
    "for i in range (n):\n",
    "    for j in range (i,n):\n",
    "        print (' ', end=\" \")\n",
    "    for i in range (i+1):\n",
    "        print ('*',end = ' ')\n",
    "    for i in range (i):\n",
    "        print ('*', end=\" \")\n",
    "    print()"
   ]
  },
  {
   "cell_type": "code",
   "execution_count": 18,
   "id": "ab4b95d9",
   "metadata": {},
   "outputs": [
    {
     "name": "stdout",
     "output_type": "stream",
     "text": [
      "  * * * * * * * * * \n",
      "    * * * * * * * \n",
      "      * * * * * \n",
      "        * * * \n",
      "          * \n"
     ]
    }
   ],
   "source": [
    "n = 5\n",
    "for i in range (n):\n",
    "    for j in range(i+1):\n",
    "        print (' ', end=\" \")\n",
    "    for k in range (i,n):\n",
    "        print ('*',end = ' ')\n",
    "    for l in range(i,n-1):\n",
    "        print ('*', end=\" \")\n",
    "    print()"
   ]
  },
  {
   "cell_type": "code",
   "execution_count": 19,
   "id": "529319fd",
   "metadata": {},
   "outputs": [
    {
     "name": "stdout",
     "output_type": "stream",
     "text": [
      "        * \n",
      "      * * * \n",
      "    * * * * * \n",
      "  * * * * * * * \n",
      "* * * * * * * * * \n",
      "* * * * * * * * * \n",
      "  * * * * * * * \n",
      "    * * * * * \n",
      "      * * * \n",
      "        * \n"
     ]
    }
   ],
   "source": [
    "n = 5\n",
    "for i in range (n):\n",
    "    for j in range(i,n-1):\n",
    "        print (' ', end=\" \")\n",
    "    for k in range(i):\n",
    "        print ('*',end = ' ')\n",
    "    for l in range(i+1):\n",
    "        print ('*',end = ' ')\n",
    "    print ()\n",
    "for i in range (n):\n",
    "    for j in range(i):\n",
    "        print (' ', end=\" \")\n",
    "    for k in range(i,n):\n",
    "        print ('*',end = ' ')\n",
    "    for l in range(i,n-1):\n",
    "        print ('*',end = ' ')\n",
    "    print ()"
   ]
  },
  {
   "cell_type": "code",
   "execution_count": 20,
   "id": "d2ef7c1c",
   "metadata": {},
   "outputs": [
    {
     "name": "stdout",
     "output_type": "stream",
     "text": [
      "Enter the number of line you want : 5\n",
      "     *\n",
      "    ***\n",
      "   *****\n",
      "  *******\n",
      " *********\n"
     ]
    }
   ],
   "source": [
    "n = int(input('Enter the number of line you want : '))\n",
    "for i in range(n):\n",
    "    for j in range(i,n):\n",
    "        print (' ', end=\"\")\n",
    "    for k in range(i):\n",
    "        print ('*',end = '')\n",
    "    for l in range(i+1):\n",
    "        print ('*',end = '')\n",
    "    print()\n",
    "    \n",
    "\n",
    "    \n"
   ]
  },
  {
   "cell_type": "code",
   "execution_count": 21,
   "id": "f15551b0",
   "metadata": {},
   "outputs": [
    {
     "name": "stdout",
     "output_type": "stream",
     "text": [
      "select + for Additional\n",
      "select - for Additional\n",
      "select * for Additional\n",
      "select / for Additional\n",
      "Enter the Funtion you want to perform+\n",
      "please input the number : 4\n",
      "please input the number : 5\n",
      "4 + 5 =  9\n"
     ]
    }
   ],
   "source": [
    "def add(num1,num2):\n",
    "    return num1+num2\n",
    "\n",
    "def sub(num1,num2):\n",
    "    return num1-num2\n",
    "\n",
    "def div(num1,num2):\n",
    "    return num1/num2\n",
    "\n",
    "def mul(num1,num2):\n",
    "    return num1*num2\n",
    "\n",
    "print ('select + for Additional')\n",
    "print ('select - for Additional')\n",
    "print ('select * for Additional')\n",
    "print ('select / for Additional')\n",
    "a = input('Enter the Funtion you want to perform')\n",
    "\n",
    "num1 = int(input('please input the number : '))\n",
    "num2 = int(input('please input the number : '))\n",
    "\n",
    "if a == '+':\n",
    "    print(f'{num1} + {num2} = ' , add(num1,num2))\n",
    "    \n",
    "elif a == '-':\n",
    "    print(f'{num1} - {num2} = ' , sub(num1,num2))\n",
    "    \n",
    "elif a == '/':\n",
    "    print(f'{num1} / {num2} = ' , div(num1,num2))\n",
    "    \n",
    "elif a == '*':\n",
    "    print(f'{num1} * {num2} = ' , mul(num1,num2))\n",
    "    \n",
    "else:\n",
    "    print ('Invalid Entry')\n"
   ]
  },
  {
   "cell_type": "code",
   "execution_count": 9,
   "id": "d07c0f8e",
   "metadata": {},
   "outputs": [
    {
     "name": "stdout",
     "output_type": "stream",
     "text": [
      "Enter the rowa u want : 5\n",
      "1 \n",
      "1 2 \n",
      "1 2 3 \n",
      "1 2 3 4 \n",
      "1 2 3 4 5 \n"
     ]
    }
   ],
   "source": [
    "n = int(input(\"Enter the rowa u want : \"))\n",
    "for i in range(n):\n",
    "    for j in range(i+1):\n",
    "        print(j+1 , end=\" \")\n",
    "    print( )"
   ]
  },
  {
   "cell_type": "code",
   "execution_count": 7,
   "id": "5023bcf7",
   "metadata": {},
   "outputs": [
    {
     "name": "stdout",
     "output_type": "stream",
     "text": [
      "Enter the rowa u want : 5\n",
      "1 \n",
      "2 2 \n",
      "3 3 3 \n",
      "4 4 4 4 \n",
      "5 5 5 5 5 \n"
     ]
    }
   ],
   "source": [
    "n = int(input(\"Enter the rowa u want : \"))\n",
    "for i in range(n):\n",
    "    for j in range(i+1):\n",
    "        print(i+1 , end=\" \")\n",
    "    print( )"
   ]
  },
  {
   "cell_type": "code",
   "execution_count": 13,
   "id": "dffd2ef2",
   "metadata": {},
   "outputs": [
    {
     "name": "stdout",
     "output_type": "stream",
     "text": [
      "Enter the row u want : 6\n",
      "1 \n",
      "2 1 \n",
      "3 2 1 \n",
      "4 3 2 1 \n",
      "5 4 3 2 1 \n",
      "6 5 4 3 2 1 \n"
     ]
    }
   ],
   "source": [
    "n = int(input(\"Enter the row u want : \"))\n",
    "for i in range(n):\n",
    "    for j in range(i,-1,-1):\n",
    "        print(j+1 , end=\" \")\n",
    "    print( )"
   ]
  },
  {
   "cell_type": "code",
   "execution_count": 17,
   "id": "fcc72a8a",
   "metadata": {},
   "outputs": [
    {
     "name": "stdout",
     "output_type": "stream",
     "text": [
      "Enter the row u want : 5\n",
      "5 \n",
      "4 4 \n",
      "3 3 3 \n",
      "2 2 2 2 \n",
      "1 1 1 1 1 \n"
     ]
    }
   ],
   "source": [
    "n = int(input(\"Enter the row u want : \"))\n",
    "for i in range(n):\n",
    "    for j in range(i+1):\n",
    "        print(n-i , end=\" \")\n",
    "    print( )"
   ]
  },
  {
   "cell_type": "code",
   "execution_count": 18,
   "id": "354081af",
   "metadata": {},
   "outputs": [
    {
     "name": "stdout",
     "output_type": "stream",
     "text": [
      "Enter the row u want : 5\n",
      "5 \n",
      "5 4 \n",
      "5 4 3 \n",
      "5 4 3 2 \n",
      "5 4 3 2 1 \n"
     ]
    }
   ],
   "source": [
    "n = int(input(\"Enter the row u want : \"))\n",
    "for i in range(n):\n",
    "    for j in range(i+1):\n",
    "        print(n-j , end=\" \")\n",
    "    print( )"
   ]
  },
  {
   "cell_type": "code",
   "execution_count": 19,
   "id": "628b73c7",
   "metadata": {},
   "outputs": [
    {
     "name": "stdout",
     "output_type": "stream",
     "text": [
      "Enter the row u want : 5\n",
      "5 \n",
      "4 5 \n",
      "3 4 5 \n",
      "2 3 4 5 \n",
      "1 2 3 4 5 \n"
     ]
    }
   ],
   "source": [
    "n = int(input(\"Enter the row u want : \"))\n",
    "for i in range(n):\n",
    "    for j in range(i,-1,-1):\n",
    "        print(n-j , end=\" \")\n",
    "    print( )"
   ]
  },
  {
   "cell_type": "code",
   "execution_count": 37,
   "id": "b49282bb",
   "metadata": {},
   "outputs": [
    {
     "name": "stdout",
     "output_type": "stream",
     "text": [
      "Enter the row u want : 5\n",
      "          1 \n",
      "        2 2 \n",
      "      3 3 3 \n",
      "    4 4 4 4 \n",
      "  5 5 5 5 5 \n"
     ]
    }
   ],
   "source": [
    "n = int(input(\"Enter the row u want : \"))\n",
    "for i in range(n):\n",
    "    for k in range(i,n):\n",
    "        print(' ' , end=\" \")\n",
    "    for j in range(i+1):\n",
    "        print(i+1, end=\" \")\n",
    "    print( )"
   ]
  },
  {
   "cell_type": "code",
   "execution_count": 38,
   "id": "2c4fd105",
   "metadata": {},
   "outputs": [
    {
     "name": "stdout",
     "output_type": "stream",
     "text": [
      "Enter the row u want : 6\n",
      "      1 \n",
      "     2 2 \n",
      "    3 3 3 \n",
      "   4 4 4 4 \n",
      "  5 5 5 5 5 \n",
      " 6 6 6 6 6 6 \n"
     ]
    }
   ],
   "source": [
    "n = int(input(\"Enter the row u want : \"))\n",
    "for i in range(n):\n",
    "    for k in range(i,n):\n",
    "        print(' ' , end=\"\")\n",
    "    for j in range(i+1):\n",
    "        print(i+1, end=\" \")\n",
    "    print( )"
   ]
  },
  {
   "cell_type": "code",
   "execution_count": 40,
   "id": "8cc83bc8",
   "metadata": {},
   "outputs": [
    {
     "name": "stdout",
     "output_type": "stream",
     "text": [
      "Enter the row u want : 6\n",
      "      6 \n",
      "     6 5 \n",
      "    6 5 4 \n",
      "   6 5 4 3 \n",
      "  6 5 4 3 2 \n",
      " 6 5 4 3 2 1 \n"
     ]
    }
   ],
   "source": [
    "n = int(input(\"Enter the row u want : \"))\n",
    "for i in range(n):\n",
    "    for k in range(i,n):\n",
    "        print(' ' , end=\"\")\n",
    "    for j in range(i+1):\n",
    "        print(n-j, end=\" \")\n",
    "    print( )"
   ]
  },
  {
   "cell_type": "code",
   "execution_count": 3,
   "id": "14934cfa",
   "metadata": {},
   "outputs": [
    {
     "name": "stdout",
     "output_type": "stream",
     "text": [
      "Enter the row u want : 5\n",
      " 5 4 3 2 1 \n",
      "  4 3 2 1 \n",
      "   3 2 1 \n",
      "    2 1 \n",
      "     1 \n"
     ]
    }
   ],
   "source": [
    "n = int(input(\"Enter the row u want : \"))\n",
    "for i in range(n-1,-1,-1):\n",
    "    for k in range(i,n):\n",
    "        print(' ' , end=\"\")\n",
    "    for j in range(i,-1,-1):\n",
    "        print(j+1, end=\" \")\n",
    "    print( )"
   ]
  },
  {
   "cell_type": "code",
   "execution_count": 1,
   "id": "f8676097",
   "metadata": {},
   "outputs": [
    {
     "name": "stdout",
     "output_type": "stream",
     "text": [
      "Enter the row u want : 5\n",
      " 1 1 1 1 1 \n",
      "  2 2 2 2 \n",
      "   3 3 3 \n",
      "    4 4 \n",
      "     5 \n"
     ]
    }
   ],
   "source": [
    "n = int(input(\"Enter the row u want : \"))\n",
    "for i in range(n):\n",
    "    for k in range(i+1):\n",
    "        print(' ' , end=\"\")\n",
    "    for j in range(i,n):\n",
    "        print(j+1, end=\" \")\n",
    " \n",
    "\n",
    "    print( )"
   ]
  },
  {
   "cell_type": "code",
   "execution_count": 1,
   "id": "91c35874",
   "metadata": {},
   "outputs": [
    {
     "name": "stdout",
     "output_type": "stream",
     "text": [
      "Enter the trems : 10\n",
      "0 1 1 2 3 5 8 13 21 34 "
     ]
    }
   ],
   "source": [
    "#Fibinacci series\n",
    "a=int(input(\"Enter the trems : \"))\n",
    "b=0\n",
    "c=1\n",
    "if a<=b:\n",
    "    print(f\"The requested series is {b}\")\n",
    "else:\n",
    "    print(b,c,end=\" \")\n",
    "    for i in range(2,a):\n",
    "        d=b+c\n",
    "        print(d,end=\" \")\n",
    "        b=c\n",
    "        c=d"
   ]
  },
  {
   "cell_type": "code",
   "execution_count": 4,
   "id": "93f7dec2",
   "metadata": {},
   "outputs": [
    {
     "data": {
      "text/plain": [
       "[3, 4, 6, 9]"
      ]
     },
     "execution_count": 4,
     "metadata": {},
     "output_type": "execute_result"
    }
   ],
   "source": [
    "def bs(a):\n",
    "    b=len(a)-1\n",
    "    for x in range(b):\n",
    "        for y in range(b-x):\n",
    "            if a[y]>a[y+1]:\n",
    "                a[y],a[y+1]=a[y+1],a[y]\n",
    "    return a\n",
    "a=[3,4,9,6]\n",
    "bs(a)"
   ]
  },
  {
   "cell_type": "code",
   "execution_count": 1,
   "id": "e5fe58f2",
   "metadata": {},
   "outputs": [
    {
     "name": "stdout",
     "output_type": "stream",
     "text": [
      "mean=109.89 stdv=1.98\n",
      "Reject Null Hypothesis\n"
     ]
    }
   ],
   "source": [
    "# imports\n",
    "import math\n",
    "import numpy as np\n",
    "from numpy.random import randn\n",
    "from statsmodels.stats.weightstats import ztest\n",
    "\n",
    "# Generate a random array of 50 numbers having mean 110 and sd 15\n",
    "# similar to the IQ scores data we assume above\n",
    "mean_iq = 110\n",
    "sd_iq = 15/math.sqrt(50)\n",
    "alpha =0.05\n",
    "null_mean =100\n",
    "data = sd_iq*randn(50)+mean_iq\n",
    "# print mean and sd\n",
    "print('mean=%.2f stdv=%.2f' % (np.mean(data), np.std(data)))\n",
    "\n",
    "# now we perform the test. In this function, we passed data, in the value parameter\n",
    "# we passed mean value in the null hypothesis, in alternative hypothesis we check whether the\n",
    "# mean is larger\n",
    "\n",
    "ztest_Score, p_value= ztest(data,value = null_mean, alternative='larger')\n",
    "# the function outputs a p_value and z-score corresponding to that value, we compare the\n",
    "# p-value with alpha, if it is greater than alpha then we do not null hypothesis\n",
    "# else we reject it.\n",
    "\n",
    "if(p_value < alpha):\n",
    "    print(\"Reject Null Hypothesis\")\n",
    "else:\n",
    "    print(\"Fail to Reject NUll Hypothesis\")"
   ]
  },
  {
   "cell_type": "code",
   "execution_count": 4,
   "id": "09a38b81",
   "metadata": {},
   "outputs": [],
   "source": [
    "class user_input:\n",
    "    def amount():\n",
    "        try:\n",
    "            option = 5\n",
    "            for i in range(option):\n",
    "                A=int(input('Enter ther amount : '))\n",
    "                if A > 0 and A<100:\n",
    "                    print(f'Amount as been entired')\n",
    "                    break\n",
    "                else:\n",
    "                    option=option-1\n",
    "                    print(f'Please enter the amount B/W 0 to 100 and you {option}')\n",
    "        except Exception as ex:\n",
    "            print (ex)"
   ]
  },
  {
   "cell_type": "code",
   "execution_count": 5,
   "id": "46744194",
   "metadata": {},
   "outputs": [
    {
     "name": "stdout",
     "output_type": "stream",
     "text": [
      "Enter ther amount : a\n",
      "invalid literal for int() with base 10: 'a'\n"
     ]
    }
   ],
   "source": [
    "user_input.amount()"
   ]
  },
  {
   "cell_type": "code",
   "execution_count": 2,
   "id": "406d544e",
   "metadata": {},
   "outputs": [
    {
     "name": "stdout",
     "output_type": "stream",
     "text": [
      "Enter the km to convert into miles : 8\n",
      "For 8.0 km the miles is 4.970968\n"
     ]
    }
   ],
   "source": [
    "km=float(input('Enter the km to convert into miles : '))\n",
    "conv_fac = 0.621371\n",
    "miles=km*conv_fac\n",
    "print(f'For {km} km the miles is {miles}')"
   ]
  },
  {
   "cell_type": "code",
   "execution_count": 4,
   "id": "cdaecb0c",
   "metadata": {},
   "outputs": [
    {
     "name": "stdout",
     "output_type": "stream",
     "text": [
      "enter the Celsius : 32\n",
      "For 32.0 the degree of fahrenheit is 89.6\n"
     ]
    }
   ],
   "source": [
    "celsius=float(input(\"enter the Celsius : \"))\n",
    "fahrenheit=(celsius * 1.8) + celsius\n",
    "print(f'For {celsius} the degree of fahrenheit is {fahrenheit}')\n"
   ]
  },
  {
   "cell_type": "code",
   "execution_count": 7,
   "id": "34bfbeb6",
   "metadata": {},
   "outputs": [
    {
     "name": "stdout",
     "output_type": "stream",
     "text": [
      "   February 2023\n",
      "Mo Tu We Th Fr Sa Su\n",
      "       1  2  3  4  5\n",
      " 6  7  8  9 10 11 12\n",
      "13 14 15 16 17 18 19\n",
      "20 21 22 23 24 25 26\n",
      "27 28\n",
      "\n"
     ]
    }
   ],
   "source": [
    "import calendar\n",
    "\n",
    "year=2023\n",
    "month=2\n",
    "\n",
    "print(calendar.month(year,month))"
   ]
  },
  {
   "cell_type": "code",
   "execution_count": 13,
   "id": "18875edc",
   "metadata": {},
   "outputs": [
    {
     "name": "stdout",
     "output_type": "stream",
     "text": [
      "100\n"
     ]
    }
   ],
   "source": [
    "b=10\n",
    "c=b**2\n",
    "print(c)"
   ]
  },
  {
   "cell_type": "code",
   "execution_count": 15,
   "id": "d60a58b2",
   "metadata": {},
   "outputs": [
    {
     "ename": "TypeError",
     "evalue": "unsupported operand type(s) for -: 'int' and 'builtin_function_or_method'",
     "output_type": "error",
     "traceback": [
      "\u001b[1;31m---------------------------------------------------------------------------\u001b[0m",
      "\u001b[1;31mTypeError\u001b[0m                                 Traceback (most recent call last)",
      "Input \u001b[1;32mIn [15]\u001b[0m, in \u001b[0;36m<cell line: 3>\u001b[1;34m()\u001b[0m\n\u001b[0;32m      1\u001b[0m \u001b[38;5;28;01mimport\u001b[39;00m \u001b[38;5;21;01mcmath\u001b[39;00m\n\u001b[0;32m      2\u001b[0m b\u001b[38;5;241m=\u001b[39m\u001b[38;5;241m4\u001b[39m\n\u001b[1;32m----> 3\u001b[0m d\u001b[38;5;241m=\u001b[39m(\u001b[38;5;241;43m-\u001b[39;49m\u001b[43mb\u001b[49m\u001b[38;5;241;43m-\u001b[39;49m\u001b[43mcmath\u001b[49m\u001b[38;5;241;43m.\u001b[39;49m\u001b[43msqrt\u001b[49m)\n\u001b[0;32m      4\u001b[0m \u001b[38;5;28mprint\u001b[39m (d)\n",
      "\u001b[1;31mTypeError\u001b[0m: unsupported operand type(s) for -: 'int' and 'builtin_function_or_method'"
     ]
    }
   ],
   "source": [
    "import cmath\n",
    "b=4\n",
    "d=(-b-cmath.sqrt)\n",
    "print (d)"
   ]
  },
  {
   "cell_type": "code",
   "execution_count": 3,
   "id": "762d1c87",
   "metadata": {},
   "outputs": [
    {
     "name": "stdout",
     "output_type": "stream",
     "text": [
      "Enter the number : -2\n",
      "The number -2 is a nagitive number\n"
     ]
    }
   ],
   "source": [
    "#Positive and negative number\n",
    "def Check_number(number):\n",
    "    try:\n",
    "        if number>0:\n",
    "            print (\"The number {} is a positive number\".format(number))\n",
    "        elif number<0:\n",
    "            print('The number {} is a nagitive number'.format(number))\n",
    "        else:\n",
    "            print('The number is {}'.format(number))\n",
    "    except ValueError:\n",
    "        print('Enter the valid number')\n",
    "        \n",
    "number=int(input(\"Enter the number : \"))\n",
    "Check_number(number)"
   ]
  },
  {
   "cell_type": "code",
   "execution_count": 5,
   "id": "1fc741dc",
   "metadata": {},
   "outputs": [],
   "source": [
    "def odd_even_number():\n",
    "    a=int(input('Enter the list of number :'))\n",
    "    if a%2==0:\n",
    "        print (\"The number {} is a even number\".format(a))\n",
    "    else:\n",
    "        print(\"The number {} is a odd number\".format(a))"
   ]
  },
  {
   "cell_type": "code",
   "execution_count": 7,
   "id": "cdbc7836",
   "metadata": {},
   "outputs": [
    {
     "name": "stdout",
     "output_type": "stream",
     "text": [
      "Enter the list of number :25\n",
      "The number 25 is a odd number\n"
     ]
    }
   ],
   "source": [
    "odd_even_number()"
   ]
  },
  {
   "cell_type": "code",
   "execution_count": 8,
   "id": "10ff8da1",
   "metadata": {},
   "outputs": [],
   "source": [
    "class year:\n",
    "    def leap_year(year):\n",
    "        if year%4==0:\n",
    "            print ('{} is a leap year'.format(year))\n",
    "        else:\n",
    "            print('{} is not a leap year'.format(year))"
   ]
  },
  {
   "cell_type": "code",
   "execution_count": 9,
   "id": "dfd69337",
   "metadata": {},
   "outputs": [
    {
     "name": "stdout",
     "output_type": "stream",
     "text": [
      "2016 is a leap year\n"
     ]
    }
   ],
   "source": [
    "year.leap_year(2016)"
   ]
  },
  {
   "cell_type": "code",
   "execution_count": 20,
   "id": "7864a37b",
   "metadata": {},
   "outputs": [],
   "source": [
    "#prime number\n",
    "def prime():\n",
    "    try:\n",
    "        number=int(input('Enter the number : '))\n",
    "        for i in range (2,number):\n",
    "            if number%i==0:\n",
    "                print(f'{number} is not a prime number')\n",
    "                break\n",
    "            else:\n",
    "                print(f'{number} is a prime number')\n",
    "                break\n",
    "    except Exception as ex:\n",
    "        print(ex)"
   ]
  },
  {
   "cell_type": "code",
   "execution_count": 23,
   "id": "e5372790",
   "metadata": {},
   "outputs": [
    {
     "name": "stdout",
     "output_type": "stream",
     "text": [
      "Enter the number : 13\n",
      "13 is a prime number\n"
     ]
    }
   ],
   "source": [
    "prime()\n"
   ]
  },
  {
   "cell_type": "code",
   "execution_count": 19,
   "id": "c4daf733",
   "metadata": {},
   "outputs": [],
   "source": [
    "#prime number list\n",
    "prime_number=[]\n",
    "def prime_num():\n",
    "    for i in range(1,100):\n",
    "        for y in range(2,i):\n",
    "            if i%y==0:\n",
    "                break\n",
    "            if i%y==1:\n",
    "                prime_number.append(i)\n",
    "            \n"
   ]
  },
  {
   "cell_type": "code",
   "execution_count": 20,
   "id": "80c71a2a",
   "metadata": {},
   "outputs": [
    {
     "name": "stdout",
     "output_type": "stream",
     "text": [
      "[3, 5, 5, 7, 7, 7, 9, 11, 11, 11, 13, 13, 13, 13, 13, 15, 17, 17, 17, 17, 19, 19, 19, 19, 19, 21, 23, 23, 23, 25, 25, 25, 27, 29, 29, 29, 29, 29, 31, 31, 31, 31, 31, 31, 31, 33, 35, 37, 37, 37, 37, 37, 37, 37, 37, 39, 41, 41, 41, 41, 41, 41, 41, 43, 43, 43, 43, 43, 43, 43, 45, 47, 47, 47, 49, 49, 49, 49, 51, 53, 53, 53, 53, 53, 55, 55, 57, 59, 59, 59, 61, 61, 61, 61, 61, 61, 61, 61, 61, 61, 61, 63, 65, 65, 67, 67, 67, 67, 67, 67, 67, 69, 71, 71, 71, 71, 71, 71, 71, 73, 73, 73, 73, 73, 73, 73, 73, 73, 73, 73, 75, 77, 77, 79, 79, 79, 79, 79, 79, 79, 81, 83, 83, 83, 85, 85, 85, 87, 89, 89, 89, 89, 89, 89, 89, 91, 91, 91, 91, 93, 95, 97, 97, 97, 97, 97, 97, 97, 97, 97, 97, 97, 99]\n"
     ]
    }
   ],
   "source": [
    "prime_num()\n",
    "print(prime_number)"
   ]
  },
  {
   "cell_type": "code",
   "execution_count": 38,
   "id": "b7d4f6aa",
   "metadata": {},
   "outputs": [
    {
     "name": "stdout",
     "output_type": "stream",
     "text": [
      "[1, 2, 3, 5, 7, 11, 13, 17, 19, 23, 29, 31, 37, 41, 43, 47, 53, 59, 61, 67, 71, 73, 79, 83, 89, 97, 101, 103, 107, 109, 113, 127, 131, 137, 139, 149, 151, 157, 163, 167, 173, 179, 181, 191, 193, 197, 199, 211, 223, 227, 229, 233, 239, 241, 251, 257, 263, 269, 271, 277, 281, 283, 293, 307, 311, 313, 317, 331, 337, 347, 349, 353, 359, 367, 373, 379, 383, 389, 397, 401, 409, 419, 421, 431, 433, 439, 443, 449, 457, 461, 463, 467, 479, 487, 491, 499, 503, 509, 521, 523, 541, 547, 557, 563, 569, 571, 577, 587, 593, 599, 601, 607, 613, 617, 619, 631, 641, 643, 647, 653, 659, 661, 673, 677, 683, 691, 701, 709, 719, 727, 733, 739, 743, 751, 757, 761, 769, 773, 787, 797, 809, 811, 821, 823, 827, 829, 839, 853, 857, 859, 863, 877, 881, 883, 887, 907, 911, 919, 929, 937, 941, 947, 953, 967, 971, 977, 983, 991, 997, 1009, 1013, 1019, 1021, 1031, 1033, 1039, 1049, 1051, 1061, 1063, 1069, 1087, 1091, 1093, 1097, 1103, 1109, 1117, 1123, 1129, 1151, 1153, 1163, 1171, 1181, 1187, 1193, 1201, 1213, 1217, 1223, 1229, 1231, 1237, 1249, 1259, 1277, 1279, 1283, 1289, 1291, 1297, 1301, 1303, 1307, 1319, 1321, 1327, 1361, 1367, 1373, 1381, 1399, 1409, 1423, 1427, 1429, 1433, 1439, 1447, 1451, 1453, 1459, 1471, 1481, 1483, 1487, 1489, 1493, 1499, 1511, 1523, 1531, 1543, 1549, 1553, 1559, 1567, 1571, 1579, 1583, 1597, 1601, 1607, 1609, 1613, 1619, 1621, 1627, 1637, 1657, 1663, 1667, 1669, 1693, 1697, 1699, 1709, 1721, 1723, 1733, 1741, 1747, 1753, 1759, 1777, 1783, 1787, 1789, 1801, 1811, 1823, 1831, 1847, 1861, 1867, 1871, 1873, 1877, 1879, 1889, 1901, 1907, 1913, 1931, 1933, 1949, 1951, 1973, 1979, 1987, 1993, 1997, 1999, 2003, 2011, 2017, 2027, 2029, 2039, 2053, 2063, 2069, 2081, 2083, 2087, 2089, 2099, 2111, 2113, 2129, 2131, 2137, 2141, 2143, 2153, 2161, 2179, 2203, 2207, 2213, 2221, 2237, 2239, 2243, 2251, 2267, 2269, 2273, 2281, 2287, 2293, 2297, 2309, 2311, 2333, 2339, 2341, 2347, 2351, 2357, 2371, 2377, 2381, 2383, 2389, 2393, 2399, 2411, 2417, 2423, 2437, 2441, 2447, 2459, 2467, 2473, 2477, 2503, 2521, 2531, 2539, 2543, 2549, 2551, 2557, 2579, 2591, 2593, 2609, 2617, 2621, 2633, 2647, 2657, 2659, 2663, 2671, 2677, 2683, 2687, 2689, 2693, 2699, 2707, 2711, 2713, 2719, 2729, 2731, 2741, 2749, 2753, 2767, 2777, 2789, 2791, 2797, 2801, 2803, 2819, 2833, 2837, 2843, 2851, 2857, 2861, 2879, 2887, 2897, 2903, 2909, 2917, 2927, 2939, 2953, 2957, 2963, 2969, 2971, 2999, 3001, 3011, 3019, 3023, 3037, 3041, 3049, 3061, 3067, 3079, 3083, 3089, 3109, 3119, 3121, 3137, 3163, 3167, 3169, 3181, 3187, 3191, 3203, 3209, 3217, 3221, 3229, 3251, 3253, 3257, 3259, 3271, 3299, 3301, 3307, 3313, 3319, 3323, 3329, 3331, 3343, 3347, 3359, 3361, 3371, 3373, 3389, 3391, 3407, 3413, 3433, 3449, 3457, 3461, 3463, 3467, 3469, 3491, 3499, 3511, 3517, 3527, 3529, 3533, 3539, 3541, 3547, 3557, 3559, 3571, 3581, 3583, 3593, 3607, 3613, 3617, 3623, 3631, 3637, 3643, 3659, 3671, 3673, 3677, 3691, 3697, 3701, 3709, 3719, 3727, 3733, 3739, 3761, 3767, 3769, 3779, 3793, 3797, 3803, 3821, 3823, 3833, 3847, 3851, 3853, 3863, 3877, 3881, 3889, 3907, 3911, 3917, 3919, 3923, 3929, 3931, 3943, 3947, 3967, 3989, 4001, 4003, 4007, 4013, 4019, 4021, 4027, 4049, 4051, 4057, 4073, 4079, 4091, 4093, 4099, 4111, 4127, 4129, 4133, 4139, 4153, 4157, 4159, 4177, 4201, 4211, 4217, 4219, 4229, 4231, 4241, 4243, 4253, 4259, 4261, 4271, 4273, 4283, 4289, 4297, 4327, 4337, 4339, 4349, 4357, 4363, 4373, 4391, 4397, 4409, 4421, 4423, 4441, 4447, 4451, 4457, 4463, 4481, 4483, 4493, 4507, 4513, 4517, 4519, 4523, 4547, 4549, 4561, 4567, 4583, 4591, 4597, 4603, 4621, 4637, 4639, 4643, 4649, 4651, 4657, 4663, 4673, 4679, 4691, 4703, 4721, 4723, 4729, 4733, 4751, 4759, 4783, 4787, 4789, 4793, 4799, 4801, 4813, 4817, 4831, 4861, 4871, 4877, 4889, 4903, 4909, 4919, 4931, 4933, 4937, 4943, 4951, 4957, 4967, 4969, 4973, 4987, 4993, 4999, 5003, 5009, 5011, 5021, 5023, 5039, 5051, 5059, 5077, 5081, 5087, 5099, 5101, 5107, 5113, 5119, 5147, 5153, 5167, 5171, 5179, 5189, 5197, 5209, 5227, 5231, 5233, 5237, 5261, 5273, 5279, 5281, 5297, 5303, 5309, 5323, 5333, 5347, 5351, 5381, 5387, 5393, 5399, 5407, 5413, 5417, 5419, 5431, 5437, 5441, 5443, 5449, 5471, 5477, 5479, 5483, 5501, 5503, 5507, 5519, 5521, 5527, 5531, 5557, 5563, 5569, 5573, 5581, 5591, 5623, 5639, 5641, 5647, 5651, 5653, 5657, 5659, 5669, 5683, 5689, 5693, 5701, 5711, 5717, 5737, 5741, 5743, 5749, 5779, 5783, 5791, 5801, 5807, 5813, 5821, 5827, 5839, 5843, 5849, 5851, 5857, 5861, 5867, 5869, 5879, 5881, 5897, 5903, 5923, 5927, 5939, 5953, 5981, 5987, 6007, 6011, 6029, 6037, 6043, 6047, 6053, 6067, 6073, 6079, 6089, 6091, 6101, 6113, 6121, 6131, 6133, 6143, 6151, 6163, 6173, 6197, 6199, 6203, 6211, 6217, 6221, 6229, 6247, 6257, 6263, 6269, 6271, 6277, 6287, 6299, 6301, 6311, 6317, 6323, 6329, 6337, 6343, 6353, 6359, 6361, 6367, 6373, 6379, 6389, 6397, 6421, 6427, 6449, 6451, 6469, 6473, 6481, 6491, 6521, 6529, 6547, 6551, 6553, 6563, 6569, 6571, 6577, 6581, 6599, 6607, 6619, 6637, 6653, 6659, 6661, 6673, 6679, 6689, 6691, 6701, 6703, 6709, 6719, 6733, 6737, 6761, 6763, 6779, 6781, 6791, 6793, 6803, 6823, 6827, 6829, 6833, 6841, 6857, 6863, 6869, 6871, 6883, 6899, 6907, 6911, 6917, 6947, 6949, 6959, 6961, 6967, 6971, 6977, 6983, 6991, 6997, 7001, 7013, 7019, 7027, 7039, 7043, 7057, 7069, 7079, 7103, 7109, 7121, 7127, 7129, 7151, 7159, 7177, 7187, 7193, 7207, 7211, 7213, 7219, 7229, 7237, 7243, 7247, 7253, 7283, 7297, 7307, 7309, 7321, 7331, 7333, 7349, 7351, 7369, 7393, 7411, 7417, 7433, 7451, 7457, 7459, 7477, 7481, 7487, 7489, 7499, 7507, 7517, 7523, 7529, 7537, 7541, 7547, 7549, 7559, 7561, 7573, 7577, 7583, 7589, 7591, 7603, 7607, 7621, 7639, 7643, 7649, 7669, 7673, 7681, 7687, 7691, 7699, 7703, 7717, 7723, 7727, 7741, 7753, 7757, 7759, 7789, 7793, 7817, 7823, 7829, 7841, 7853, 7867, 7873, 7877, 7879, 7883, 7901, 7907, 7919, 7927, 7933, 7937, 7949, 7951, 7963, 7993, 8009, 8011, 8017, 8039, 8053, 8059, 8069, 8081, 8087, 8089, 8093, 8101, 8111, 8117, 8123, 8147, 8161, 8167, 8171, 8179, 8191, 8209, 8219, 8221, 8231, 8233, 8237, 8243, 8263, 8269, 8273, 8287, 8291, 8293, 8297, 8311, 8317, 8329, 8353, 8363, 8369, 8377, 8387, 8389, 8419, 8423, 8429, 8431, 8443, 8447, 8461, 8467, 8501, 8513, 8521, 8527, 8537, 8539, 8543, 8563, 8573, 8581, 8597, 8599, 8609, 8623, 8627, 8629, 8641, 8647, 8663, 8669, 8677, 8681, 8689, 8693, 8699, 8707, 8713, 8719, 8731, 8737, 8741, 8747, 8753, 8761, 8779, 8783, 8803, 8807, 8819, 8821, 8831, 8837, 8839, 8849, 8861, 8863, 8867, 8887, 8893, 8923, 8929, 8933, 8941, 8951, 8963, 8969, 8971, 8999, 9001, 9007, 9011, 9013, 9029, 9041, 9043, 9049, 9059, 9067, 9091, 9103, 9109, 9127, 9133, 9137, 9151, 9157, 9161, 9173, 9181, 9187, 9199, 9203, 9209, 9221, 9227, 9239, 9241, 9257, 9277, 9281, 9283, 9293, 9311, 9319, 9323, 9337, 9341, 9343, 9349, 9371, 9377, 9391, 9397, 9403, 9413, 9419, 9421, 9431, 9433, 9437, 9439, 9461, 9463, 9467, 9473, 9479, 9491, 9497, 9511, 9521, 9533, 9539, 9547, 9551, 9587, 9601, 9613, 9619, 9623, 9629, 9631, 9643, 9649, 9661, 9677, 9679, 9689, 9697, 9719, 9721, 9733, 9739, 9743, 9749, 9767, 9769, 9781, 9787, 9791, 9803, 9811, 9817, 9829, 9833, 9839, 9851, 9857, 9859, 9871, 9883, 9887, 9901, 9907, 9923, 9929, 9931, 9941, 9949, 9967, 9973]\n"
     ]
    }
   ],
   "source": [
    "primeNumbersList = []\n",
    "\n",
    "def generatePrimeNumbers():\n",
    "    for x in range(1,10000):\n",
    "        flag=False\n",
    "        for y in range(2,x):\n",
    "            if (x%y ==0):\n",
    "                flag = True\n",
    "                break\n",
    "        if (not flag):\n",
    "            primeNumbersList.append(x)\n",
    "        \n",
    "generatePrimeNumbers()\n",
    "print(primeNumbersList)"
   ]
  },
  {
   "cell_type": "code",
   "execution_count": 22,
   "id": "408d53df",
   "metadata": {},
   "outputs": [
    {
     "name": "stdout",
     "output_type": "stream",
     "text": [
      "Enter a number: 5\n",
      "The Factorial of 5 is 120\n"
     ]
    }
   ],
   "source": [
    "def factorial(num):\n",
    "    if (num < 1):\n",
    "        return 1\n",
    "    else:\n",
    "        return num*factorial(num-1)\n",
    "num = int(input('Enter a number: '))\n",
    "value = factorial(num)\n",
    "print(f'The Factorial of {num} is {value}')"
   ]
  },
  {
   "cell_type": "code",
   "execution_count": null,
   "id": "a4387a64",
   "metadata": {},
   "outputs": [],
   "source": [
    "def factorial(a):\n",
    "    if a==1:\n",
    "        return 1\n",
    "    else:\n",
    "        return a*factorial(a-1)\n",
    "a=int(input('Enter the number : '))    \n",
    "factorial(a)"
   ]
  },
  {
   "cell_type": "code",
   "execution_count": 1,
   "id": "105101e4",
   "metadata": {},
   "outputs": [
    {
     "name": "stdout",
     "output_type": "stream",
     "text": [
      "Which table you want : 8\n",
      "How may value you want : 9\n",
      "8*1=8\n",
      "8*2=16\n",
      "8*3=24\n",
      "8*4=32\n",
      "8*5=40\n",
      "8*6=48\n",
      "8*7=56\n",
      "8*8=64\n",
      "8*9=72\n"
     ]
    }
   ],
   "source": [
    "#tables\n",
    "def tables(number,values):\n",
    "    for i in range(1,values+1):\n",
    "        a=number*i\n",
    "        print (f'{number}*{i}={a}')\n",
    "        \n",
    "        \n",
    "numbers=int(input('Which table you want : '))\n",
    "values=int(input('How may value you want : '))\n",
    "tables(numbers,values)"
   ]
  },
  {
   "cell_type": "code",
   "execution_count": 1,
   "id": "9bbad6b5",
   "metadata": {},
   "outputs": [],
   "source": [
    "#LCM\n",
    "def LCM(x,y):\n",
    "    greater=x\n",
    "    while True:\n",
    "        if (greater%x==0)and(greater%y==0):\n",
    "            lcm=greater\n",
    "            break\n",
    "    else:\n",
    "        greater+=1\n",
    "    print (f'The LCM of {x},{y} is {lcm}')\n",
    "    \n",
    "    "
   ]
  },
  {
   "cell_type": "code",
   "execution_count": 2,
   "id": "28439334",
   "metadata": {},
   "outputs": [
    {
     "ename": "KeyboardInterrupt",
     "evalue": "",
     "output_type": "error",
     "traceback": [
      "\u001b[1;31m---------------------------------------------------------------------------\u001b[0m",
      "\u001b[1;31mKeyboardInterrupt\u001b[0m                         Traceback (most recent call last)",
      "Input \u001b[1;32mIn [2]\u001b[0m, in \u001b[0;36m<cell line: 1>\u001b[1;34m()\u001b[0m\n\u001b[1;32m----> 1\u001b[0m \u001b[43mLCM\u001b[49m\u001b[43m(\u001b[49m\u001b[38;5;241;43m4\u001b[39;49m\u001b[43m,\u001b[49m\u001b[38;5;241;43m5\u001b[39;49m\u001b[43m)\u001b[49m\n",
      "Input \u001b[1;32mIn [1]\u001b[0m, in \u001b[0;36mLCM\u001b[1;34m(x, y)\u001b[0m\n\u001b[0;32m      3\u001b[0m greater\u001b[38;5;241m=\u001b[39mx\n\u001b[0;32m      4\u001b[0m \u001b[38;5;28;01mwhile\u001b[39;00m \u001b[38;5;28;01mTrue\u001b[39;00m:\n\u001b[1;32m----> 5\u001b[0m     \u001b[38;5;28;01mif\u001b[39;00m (greater\u001b[38;5;241m%\u001b[39mx\u001b[38;5;241m==\u001b[39m\u001b[38;5;241m0\u001b[39m)\u001b[38;5;129;01mand\u001b[39;00m(\u001b[43mgreater\u001b[49m\u001b[38;5;241;43m%\u001b[39;49m\u001b[43my\u001b[49m\u001b[38;5;241m==\u001b[39m\u001b[38;5;241m0\u001b[39m):\n\u001b[0;32m      6\u001b[0m         lcm\u001b[38;5;241m=\u001b[39mgreater\n\u001b[0;32m      7\u001b[0m         \u001b[38;5;28;01mbreak\u001b[39;00m\n",
      "\u001b[1;31mKeyboardInterrupt\u001b[0m: "
     ]
    }
   ],
   "source": [
    "LCM(4,5)"
   ]
  },
  {
   "cell_type": "code",
   "execution_count": 3,
   "id": "1918621e",
   "metadata": {},
   "outputs": [
    {
     "name": "stdout",
     "output_type": "stream",
     "text": [
      "The HCF of 6,12 is 6\n",
      "The HCF of 2,3 is 1\n",
      "The HCF of 10,23 is 1\n"
     ]
    }
   ],
   "source": [
    "def findTheHcf(x_term,y_term):\n",
    "    if x_term>y_term:\n",
    "        smaller = y_term\n",
    "    else:\n",
    "        smaller = x_term\n",
    "    for ele in range(1,smaller+1):\n",
    "        if((x_term%ele == 0) and (y_term%ele == 0)):\n",
    "            hcf = ele\n",
    "    print(f'The HCF of {x_term},{y_term} is {hcf}')\n",
    "\n",
    "findTheHcf(6,12)\n",
    "findTheHcf(2,3)\n",
    "findTheHcf(10,23)"
   ]
  },
  {
   "cell_type": "code",
   "execution_count": null,
   "id": "d82e6425",
   "metadata": {},
   "outputs": [],
   "source": []
  }
 ],
 "metadata": {
  "kernelspec": {
   "display_name": "Python 3 (ipykernel)",
   "language": "python",
   "name": "python3"
  },
  "language_info": {
   "codemirror_mode": {
    "name": "ipython",
    "version": 3
   },
   "file_extension": ".py",
   "mimetype": "text/x-python",
   "name": "python",
   "nbconvert_exporter": "python",
   "pygments_lexer": "ipython3",
   "version": "3.9.12"
  }
 },
 "nbformat": 4,
 "nbformat_minor": 5
}
